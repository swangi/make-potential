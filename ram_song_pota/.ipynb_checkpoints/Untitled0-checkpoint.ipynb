{
 "metadata": {
  "name": "",
  "signature": "sha256:562aa56a1ff0e38ed6cccb84539b23cb1c3c90666fc4dfa5c7099a827ceccd8c"
 },
 "nbformat": 3,
 "nbformat_minor": 0,
 "worksheets": []
}